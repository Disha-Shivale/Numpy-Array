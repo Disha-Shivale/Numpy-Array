{
 "cells": [
  {
   "cell_type": "code",
   "execution_count": 1,
   "metadata": {},
   "outputs": [],
   "source": [
    "import numpy as np"
   ]
  },
  {
   "cell_type": "code",
   "execution_count": 2,
   "metadata": {},
   "outputs": [
    {
     "name": "stdout",
     "output_type": "stream",
     "text": [
      "[1 2 3 4 5 6]\n"
     ]
    }
   ],
   "source": [
    "i = np.array([ 1, 2, 3, 4, 5, 6 ])\n",
    "print(i)"
   ]
  },
  {
   "cell_type": "code",
   "execution_count": 3,
   "metadata": {},
   "outputs": [
    {
     "name": "stdout",
     "output_type": "stream",
     "text": [
      "10\n"
     ]
    }
   ],
   "source": [
    "i = np.array([10, 20, 30, 40, 50])\n",
    "print(i[0])"
   ]
  },
  {
   "cell_type": "code",
   "execution_count": 4,
   "metadata": {},
   "outputs": [
    {
     "name": "stdout",
     "output_type": "stream",
     "text": [
      "70\n"
     ]
    }
   ],
   "source": [
    "i = np.array([\n",
    "    [10, 20, 30, 40, 50],\n",
    "    [60, 70, 80, 90, 100]    \n",
    "])\n",
    "print(i[1,1])"
   ]
  },
  {
   "cell_type": "code",
   "execution_count": 5,
   "metadata": {},
   "outputs": [
    {
     "name": "stdout",
     "output_type": "stream",
     "text": [
      "50\n"
     ]
    }
   ],
   "source": [
    "i = np.array([\n",
    "    [10, 20, 30, 40, 50],\n",
    "    [60, 70, 80, 90, 100]    \n",
    "])\n",
    "print(i[0,4])"
   ]
  },
  {
   "cell_type": "code",
   "execution_count": 6,
   "metadata": {},
   "outputs": [
    {
     "name": "stdout",
     "output_type": "stream",
     "text": [
      "60\n"
     ]
    }
   ],
   "source": [
    "arr = np.array([\n",
    "    [[10, 20, 30], [40, 50, 60]],          #0 - 0 1 - 0 1 2\n",
    "    [[70, 80, 90], [100, 110, 120]]        #1 - 0 1 - 0 1 2\n",
    "])\n",
    "print(arr[0, 1, 2])"
   ]
  },
  {
   "cell_type": "code",
   "execution_count": 7,
   "metadata": {},
   "outputs": [
    {
     "name": "stdout",
     "output_type": "stream",
     "text": [
      "120\n"
     ]
    }
   ],
   "source": [
    "arr = np.array([\n",
    "    [[10, 20, 30], [40, 50, 60]],          #0 - 0 1 - 0 1 2\n",
    "    [[70, 80, 90], [100, 110, 120]]        #1 - 0 1 - 0 1 2\n",
    "])\n",
    "print(arr[1, 1, 2])"
   ]
  },
  {
   "cell_type": "code",
   "execution_count": 8,
   "metadata": {},
   "outputs": [
    {
     "name": "stdout",
     "output_type": "stream",
     "text": [
      "120\n"
     ]
    }
   ],
   "source": [
    "arr = np.array([\n",
    "    [[10, 20, 30], [40, 50, 60]],          #0 - 0 1 - 0 1 2\n",
    "    [[70, 80, 90], [100, 110, 120]]        #1 - 0 1 - 0 1 2\n",
    "])\n",
    "print(arr[1, 1, -1])"
   ]
  },
  {
   "cell_type": "code",
   "execution_count": 9,
   "metadata": {},
   "outputs": [
    {
     "name": "stdout",
     "output_type": "stream",
     "text": [
      "90\n"
     ]
    }
   ],
   "source": [
    "arr = np.array([\n",
    "    [[10, 20, 30], [40, 50, 60]],          #0 - 0 1 - 0 1 2\n",
    "    [[70, 80, 90], [100, 110, 120]]        #1 - 0 1 - 0 1 2\n",
    "])\n",
    "print(arr[1, -2, -1])"
   ]
  },
  {
   "cell_type": "code",
   "execution_count": 10,
   "metadata": {},
   "outputs": [
    {
     "name": "stdout",
     "output_type": "stream",
     "text": [
      "60\n"
     ]
    }
   ],
   "source": [
    "i = np.array([10, 20, 30, 40, 50, 60])\n",
    "print(i[-1])"
   ]
  }
 ],
 "metadata": {
  "kernelspec": {
   "display_name": "Python 3",
   "language": "python",
   "name": "python3"
  },
  "language_info": {
   "codemirror_mode": {
    "name": "ipython",
    "version": 3
   },
   "file_extension": ".py",
   "mimetype": "text/x-python",
   "name": "python",
   "nbconvert_exporter": "python",
   "pygments_lexer": "ipython3",
   "version": "3.8.5"
  }
 },
 "nbformat": 4,
 "nbformat_minor": 4
}
